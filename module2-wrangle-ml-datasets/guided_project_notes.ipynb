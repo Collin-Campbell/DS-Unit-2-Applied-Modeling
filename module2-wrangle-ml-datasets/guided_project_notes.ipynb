{
 "cells": [
  {
   "cell_type": "markdown",
   "metadata": {
    "id": "KUOvWyfDddLn"
   },
   "source": [
    "Lambda School Data Science\n",
    "\n",
    "*Unit 2, Sprint 3, Module 2*\n",
    "\n",
    "---\n"
   ]
  },
  {
   "cell_type": "markdown",
   "metadata": {
    "id": "MueV5JJUdPD7"
   },
   "source": [
    "# Wrangle Data"
   ]
  },
  {
   "cell_type": "markdown",
   "metadata": {
    "id": "V3SsAVwMdSwt"
   },
   "source": [
    "## Download and Import"
   ]
  },
  {
   "cell_type": "code",
   "execution_count": null,
   "metadata": {
    "id": "lPkf2PR0jUJ7"
   },
   "outputs": [],
   "source": [
    "import requests\n",
    "import tarfile\n",
    "import pandas as pd"
   ]
  },
  {
   "cell_type": "markdown",
   "metadata": {
    "id": "uSgieWr-9WTL"
   },
   "source": [
    "Download file to local machine"
   ]
  },
  {
   "cell_type": "code",
   "execution_count": null,
   "metadata": {
    "id": "VixqwXekjXCa"
   },
   "outputs": [],
   "source": [
    "url = 'https://nicks-datasets.s3-us-west-2.amazonaws.com/instacart_online_grocery_shopping_2017_05_01.tar.gz'\n",
    "filename = url.split('/')[-1]\n",
    "r = requests.get(url)\n",
    "\n",
    "with open(filename, 'wb') as f:\n",
    "    f.write(r.content)"
   ]
  },
  {
   "cell_type": "markdown",
   "metadata": {
    "id": "3iZL41709aCW"
   },
   "source": [
    "Extract `.csv` files from `.gz` file"
   ]
  },
  {
   "cell_type": "code",
   "execution_count": null,
   "metadata": {
    "id": "DsdA9llhj6oX"
   },
   "outputs": [],
   "source": [
    "# Extract files from our `.gz` file\n",
    "tarfile.open('instacart_online_grocery_shopping_2017_05_01.tar.gz').extractall()"
   ]
  },
  {
   "cell_type": "markdown",
   "metadata": {
    "id": "ItF6qNpf9gWk"
   },
   "source": [
    "Load `.csv` files into DataFrames"
   ]
  },
  {
   "cell_type": "code",
   "execution_count": null,
   "metadata": {
    "id": "Abv5QOVBbZzb"
   },
   "outputs": [],
   "source": [
    "# Load files into DataFrames\n",
    "orders = pd.read_csv('instacart_2017_05_01/orders.csv')\n",
    "order_products_train = pd.read_csv('instacart_2017_05_01/order_products__train.csv')\n",
    "order_products_prior = pd.read_csv('instacart_2017_05_01/order_products__prior.csv')\n",
    "products = pd.read_csv('instacart_2017_05_01/products.csv')"
   ]
  },
  {
   "cell_type": "markdown",
   "metadata": {
    "id": "xPMgnl8OnmSs"
   },
   "source": [
    "## EDA - Warmup Questions\n",
    "\n",
    "What information is included in the four DataFrames?\n",
    "\n",
    "- `orders` contains individual orders placed by customers. Each order has a unique `'order_id'`.\n",
    "- `order_products_prior` contains the items for each order in `orders` where `'eval_set' == 'prior'`.\n",
    "- `products` contains all the information for each product a customer can order. Each product has a unique `'product_id'`."
   ]
  },
  {
   "cell_type": "markdown",
   "metadata": {
    "id": "9orvFtu5kcuH"
   },
   "source": [
    "What information is contained in the column `orders['eval_set']`?"
   ]
  },
  {
   "cell_type": "code",
   "execution_count": null,
   "metadata": {
    "id": "aEVcPbyvkhMC"
   },
   "outputs": [],
   "source": [
    "orders['eval_set'].value_counts()"
   ]
  },
  {
   "cell_type": "markdown",
   "metadata": {
    "id": "s2xrFnJ8kiJy"
   },
   "source": [
    "The first row of `orders['order_id']` is `2539329`. Where can we find the items that were included in that order?"
   ]
  },
  {
   "cell_type": "code",
   "execution_count": null,
   "metadata": {
    "id": "up1Tw8x-kmR8"
   },
   "outputs": [],
   "source": [
    "orders.loc[0]"
   ]
  },
  {
   "cell_type": "code",
   "execution_count": null,
   "metadata": {},
   "outputs": [],
   "source": [
    "mask = order_products_prior['order_id'] == 2539329\n",
    "order_products_prior[mask]"
   ]
  },
  {
   "cell_type": "markdown",
   "metadata": {
    "id": "P0_EthYHkm5B"
   },
   "source": [
    "The first row of `order_products_prior['product_id']` is `33120`. What is the name of that product?"
   ]
  },
  {
   "cell_type": "code",
   "execution_count": null,
   "metadata": {
    "id": "JUiqXs3_kr7A"
   },
   "outputs": [],
   "source": [
    "order_products_prior.loc[0]"
   ]
  },
  {
   "cell_type": "code",
   "execution_count": null,
   "metadata": {},
   "outputs": [],
   "source": [
    "products.head()"
   ]
  },
  {
   "cell_type": "code",
   "execution_count": null,
   "metadata": {},
   "outputs": [],
   "source": [
    "mask = products['product_id'] == 33120\n",
    "products[mask]"
   ]
  },
  {
   "cell_type": "markdown",
   "metadata": {
    "id": "bkXsYOJZrpJX"
   },
   "source": [
    "## Define Our Machine Learning Problem\n",
    "\n",
    "- We want to predict whether or not a customer will purchase an item.\n",
    "- The item that is most ordered is `'banana'` (`24852`)."
   ]
  },
  {
   "cell_type": "code",
   "execution_count": null,
   "metadata": {
    "id": "45Is7Ghxk1e9"
   },
   "outputs": [],
   "source": [
    "order_products_prior['product_id'].value_counts()"
   ]
  },
  {
   "cell_type": "code",
   "execution_count": null,
   "metadata": {},
   "outputs": [],
   "source": [
    "mask = products['product_id'] == 24852\n",
    "products[mask]"
   ]
  },
  {
   "cell_type": "markdown",
   "metadata": {
    "id": "Kyf31NJ2tAzr"
   },
   "source": [
    "## Create our feature matrix and our target vector"
   ]
  },
  {
   "cell_type": "markdown",
   "metadata": {},
   "source": [
    "1. Limit our feature matrix to `'train'` orders."
   ]
  },
  {
   "cell_type": "code",
   "execution_count": null,
   "metadata": {
    "id": "1Rk5VI1Vk-bf"
   },
   "outputs": [],
   "source": [
    "X = orders[orders['eval_set']=='train']"
   ]
  },
  {
   "cell_type": "markdown",
   "metadata": {},
   "source": [
    "2. \"Check every order id for the product id and see if the product id is the one for banana\" (Marcos).\n",
    "\n",
    "First, identify banana in `order_products_train`."
   ]
  },
  {
   "cell_type": "code",
   "execution_count": null,
   "metadata": {},
   "outputs": [],
   "source": [
    "order_products_train['is_banana'] = \\\n",
    "(order_products_train['product_id'] == 24852).astype(int)"
   ]
  },
  {
   "cell_type": "markdown",
   "metadata": {},
   "source": [
    "Second, make list of `'order_id'`s that have `'banana'` in them"
   ]
  },
  {
   "cell_type": "code",
   "execution_count": null,
   "metadata": {},
   "outputs": [],
   "source": [
    "mask = order_products_train['is_banana'] == 1\n",
    "banana_order_ids = order_products_train[mask]['order_id'].unique()"
   ]
  },
  {
   "cell_type": "markdown",
   "metadata": {},
   "source": [
    "Third, use the list of `'order_id'`s to create our target."
   ]
  },
  {
   "cell_type": "code",
   "execution_count": null,
   "metadata": {},
   "outputs": [],
   "source": [
    "X['has_banana'] = X['order_id'].isin(banana_order_ids)"
   ]
  },
  {
   "cell_type": "markdown",
   "metadata": {},
   "source": [
    "## Create new features"
   ]
  },
  {
   "cell_type": "markdown",
   "metadata": {},
   "source": [
    "Size of order"
   ]
  },
  {
   "cell_type": "code",
   "execution_count": null,
   "metadata": {},
   "outputs": [],
   "source": [
    "order_size = order_products_train.groupby('order_id')['product_id'].count()\n",
    "X = X.merge(order_size, left_on='order_id', right_index=True)\n",
    "X = X.rename(columns={\"product_id\": \"n_items\"})"
   ]
  },
  {
   "cell_type": "markdown",
   "metadata": {},
   "source": [
    "Ordered bananas previously"
   ]
  },
  {
   "cell_type": "code",
   "execution_count": null,
   "metadata": {},
   "outputs": [],
   "source": [
    "# Identifying bananas\n",
    "order_products_prior['is_banana'] = \\\n",
    "(order_products_prior['product_id'] == 24852).astype(int)\n",
    "\n",
    "# Identifying prior orders with banana\n",
    "mask = order_products_prior['is_banana'] == 1\n",
    "banana_order_id_prior = order_products_prior[mask]['order_id'].unique()\n",
    "orders['prior_banana'] = orders['order_id'].isin(banana_order_id_prior)\n",
    "\n",
    "# Identify `user_id`s associated with those prior orders\n",
    "previous_banana_users = orders[orders['prior_banana']]['user_id'].unique()\n",
    "\n",
    "# Find those `user_id`s in `X`\n",
    "X['previous_banana'] = X['user_id'].isin(previous_banana_users)"
   ]
  },
  {
   "cell_type": "markdown",
   "metadata": {
    "id": "TbFoqFkbxrMO"
   },
   "source": [
    "# Split Data\n",
    "\n",
    "Split target from feature matrix"
   ]
  },
  {
   "cell_type": "code",
   "execution_count": null,
   "metadata": {
    "id": "kt2PP8mDlD1_"
   },
   "outputs": [],
   "source": [
    "target = 'has_banana'\n",
    "y = X[target]\n",
    "X = X[['order_dow', \n",
    "       'order_hour_of_day',\n",
    "       'days_since_prior_order',\n",
    "       'n_items',\n",
    "       'previous_banana']]"
   ]
  },
  {
   "cell_type": "markdown",
   "metadata": {},
   "source": [
    "Split data into training and testing sets."
   ]
  },
  {
   "cell_type": "code",
   "execution_count": null,
   "metadata": {},
   "outputs": [],
   "source": [
    "from sklearn.model_selection import train_test_split\n",
    "\n",
    "X_train, X_test, y_train, y_test = train_test_split(X, y, test_size=0.2, random_state=42)"
   ]
  },
  {
   "cell_type": "markdown",
   "metadata": {
    "id": "z54TKXYNlFIB"
   },
   "source": [
    "# Establish Baseline"
   ]
  },
  {
   "cell_type": "code",
   "execution_count": null,
   "metadata": {
    "id": "s0hlNL8LlENd"
   },
   "outputs": [],
   "source": [
    "print('Baseline Acc:', y_train.value_counts(normalize=True).max())"
   ]
  },
  {
   "cell_type": "markdown",
   "metadata": {
    "id": "1mQagtislHq0"
   },
   "source": [
    "# Build Model"
   ]
  },
  {
   "cell_type": "code",
   "execution_count": null,
   "metadata": {
    "id": "CFNyCpAI_a0U"
   },
   "outputs": [],
   "source": [
    "from sklearn.ensemble import RandomForestClassifier\n",
    "\n",
    "model = RandomForestClassifier()\n",
    "\n",
    "model.fit(X_train, y_train);"
   ]
  },
  {
   "cell_type": "markdown",
   "metadata": {
    "id": "xER0f6ZmlKam"
   },
   "source": [
    "# Check Metrics"
   ]
  },
  {
   "cell_type": "code",
   "execution_count": null,
   "metadata": {
    "id": "oQGPgAlolLuZ"
   },
   "outputs": [],
   "source": [
    "print('Training Accuracy:', model.score(X_train, y_train))\n",
    "print('Validation Accuracy:', model.score(X_test, y_test))"
   ]
  },
  {
   "cell_type": "code",
   "execution_count": null,
   "metadata": {},
   "outputs": [],
   "source": [
    "from sklearn.metrics import classification_report\n",
    "\n",
    "print(classification_report(y_test, model.predict(X_test)))"
   ]
  },
  {
   "cell_type": "code",
   "execution_count": null,
   "metadata": {},
   "outputs": [],
   "source": []
  }
 ],
 "metadata": {
  "colab": {
   "name": "2020-10-13_232_guided-project-notes.ipynb",
   "provenance": []
  },
  "kernelspec": {
   "display_name": "Python 3",
   "language": "python",
   "name": "python3"
  },
  "language_info": {
   "codemirror_mode": {
    "name": "ipython",
    "version": 3
   },
   "file_extension": ".py",
   "mimetype": "text/x-python",
   "name": "python",
   "nbconvert_exporter": "python",
   "pygments_lexer": "ipython3",
   "version": "3.8.5"
  }
 },
 "nbformat": 4,
 "nbformat_minor": 1
}
