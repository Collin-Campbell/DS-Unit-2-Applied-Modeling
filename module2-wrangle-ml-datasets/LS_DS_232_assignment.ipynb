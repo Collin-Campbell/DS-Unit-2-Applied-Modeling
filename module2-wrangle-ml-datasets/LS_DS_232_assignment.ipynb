{
  "nbformat": 4,
  "nbformat_minor": 0,
  "metadata": {
    "colab": {
      "name": "BuildWeek2.ipynb",
      "provenance": [],
      "collapsed_sections": [],
      "authorship_tag": "ABX9TyM4Czf+/lsGWV8nbNH5P0Aj",
      "include_colab_link": true
    },
    "kernelspec": {
      "name": "python3",
      "display_name": "Python 3"
    }
  },
  "cells": [
    {
      "cell_type": "markdown",
      "metadata": {
        "id": "view-in-github",
        "colab_type": "text"
      },
      "source": [
        "<a href=\"https://colab.research.google.com/github/Collin-Campbell/DS-Unit-2-Applied-Modeling/blob/master/module2-wrangle-ml-datasets/LS_DS_232_assignment.ipynb\" target=\"_parent\"><img src=\"https://colab.research.google.com/assets/colab-badge.svg\" alt=\"Open In Colab\"/></a>"
      ]
    },
    {
      "cell_type": "code",
      "metadata": {
        "id": "1S_0MJo-l5qs"
      },
      "source": [
        "import pandas as pd\n",
        "\n",
        "# https://www.kaggle.com/fema/federal-disasters\n",
        "\n",
        "df = pd.read_csv('database.csv', parse_dates=['Declaration Date'])"
      ],
      "execution_count": null,
      "outputs": []
    },
    {
      "cell_type": "code",
      "metadata": {
        "id": "u-TN915AmgKH",
        "outputId": "287f745c-13cc-4611-feb6-74e25ad77482",
        "colab": {
          "base_uri": "https://localhost:8080/",
          "height": 326
        }
      },
      "source": [
        "print(df.shape)\n",
        "df.head()"
      ],
      "execution_count": null,
      "outputs": [
        {
          "output_type": "stream",
          "text": [
            "(46185, 14)\n"
          ],
          "name": "stdout"
        },
        {
          "output_type": "execute_result",
          "data": {
            "text/html": [
              "<div>\n",
              "<style scoped>\n",
              "    .dataframe tbody tr th:only-of-type {\n",
              "        vertical-align: middle;\n",
              "    }\n",
              "\n",
              "    .dataframe tbody tr th {\n",
              "        vertical-align: top;\n",
              "    }\n",
              "\n",
              "    .dataframe thead th {\n",
              "        text-align: right;\n",
              "    }\n",
              "</style>\n",
              "<table border=\"1\" class=\"dataframe\">\n",
              "  <thead>\n",
              "    <tr style=\"text-align: right;\">\n",
              "      <th></th>\n",
              "      <th>Declaration Number</th>\n",
              "      <th>Declaration Type</th>\n",
              "      <th>Declaration Date</th>\n",
              "      <th>State</th>\n",
              "      <th>County</th>\n",
              "      <th>Disaster Type</th>\n",
              "      <th>Disaster Title</th>\n",
              "      <th>Start Date</th>\n",
              "      <th>End Date</th>\n",
              "      <th>Close Date</th>\n",
              "      <th>Individual Assistance Program</th>\n",
              "      <th>Individuals &amp; Households Program</th>\n",
              "      <th>Public Assistance Program</th>\n",
              "      <th>Hazard Mitigation Program</th>\n",
              "    </tr>\n",
              "  </thead>\n",
              "  <tbody>\n",
              "    <tr>\n",
              "      <th>0</th>\n",
              "      <td>DR-1</td>\n",
              "      <td>Disaster</td>\n",
              "      <td>1953-05-02</td>\n",
              "      <td>GA</td>\n",
              "      <td>NaN</td>\n",
              "      <td>Tornado</td>\n",
              "      <td>Tornado</td>\n",
              "      <td>05/02/1953</td>\n",
              "      <td>05/02/1953</td>\n",
              "      <td>06/01/1954</td>\n",
              "      <td>Yes</td>\n",
              "      <td>No</td>\n",
              "      <td>Yes</td>\n",
              "      <td>Yes</td>\n",
              "    </tr>\n",
              "    <tr>\n",
              "      <th>1</th>\n",
              "      <td>DR-2</td>\n",
              "      <td>Disaster</td>\n",
              "      <td>1953-05-15</td>\n",
              "      <td>TX</td>\n",
              "      <td>NaN</td>\n",
              "      <td>Tornado</td>\n",
              "      <td>Tornado and Heavy Rainfall</td>\n",
              "      <td>05/15/1953</td>\n",
              "      <td>05/15/1953</td>\n",
              "      <td>01/01/1958</td>\n",
              "      <td>Yes</td>\n",
              "      <td>No</td>\n",
              "      <td>Yes</td>\n",
              "      <td>Yes</td>\n",
              "    </tr>\n",
              "    <tr>\n",
              "      <th>2</th>\n",
              "      <td>DR-3</td>\n",
              "      <td>Disaster</td>\n",
              "      <td>1953-05-29</td>\n",
              "      <td>LA</td>\n",
              "      <td>NaN</td>\n",
              "      <td>Flood</td>\n",
              "      <td>Flood</td>\n",
              "      <td>05/29/1953</td>\n",
              "      <td>05/29/1953</td>\n",
              "      <td>02/01/1960</td>\n",
              "      <td>Yes</td>\n",
              "      <td>No</td>\n",
              "      <td>Yes</td>\n",
              "      <td>Yes</td>\n",
              "    </tr>\n",
              "    <tr>\n",
              "      <th>3</th>\n",
              "      <td>DR-4</td>\n",
              "      <td>Disaster</td>\n",
              "      <td>1953-06-02</td>\n",
              "      <td>MI</td>\n",
              "      <td>NaN</td>\n",
              "      <td>Tornado</td>\n",
              "      <td>Tornado</td>\n",
              "      <td>06/02/1953</td>\n",
              "      <td>06/02/1953</td>\n",
              "      <td>02/01/1956</td>\n",
              "      <td>Yes</td>\n",
              "      <td>No</td>\n",
              "      <td>Yes</td>\n",
              "      <td>Yes</td>\n",
              "    </tr>\n",
              "    <tr>\n",
              "      <th>4</th>\n",
              "      <td>DR-5</td>\n",
              "      <td>Disaster</td>\n",
              "      <td>1953-06-06</td>\n",
              "      <td>MT</td>\n",
              "      <td>NaN</td>\n",
              "      <td>Flood</td>\n",
              "      <td>Floods</td>\n",
              "      <td>06/06/1953</td>\n",
              "      <td>06/06/1953</td>\n",
              "      <td>12/01/1955</td>\n",
              "      <td>Yes</td>\n",
              "      <td>No</td>\n",
              "      <td>Yes</td>\n",
              "      <td>Yes</td>\n",
              "    </tr>\n",
              "  </tbody>\n",
              "</table>\n",
              "</div>"
            ],
            "text/plain": [
              "  Declaration Number  ... Hazard Mitigation Program\n",
              "0               DR-1  ...                       Yes\n",
              "1               DR-2  ...                       Yes\n",
              "2               DR-3  ...                       Yes\n",
              "3               DR-4  ...                       Yes\n",
              "4               DR-5  ...                       Yes\n",
              "\n",
              "[5 rows x 14 columns]"
            ]
          },
          "metadata": {
            "tags": []
          },
          "execution_count": 98
        }
      ]
    },
    {
      "cell_type": "code",
      "metadata": {
        "id": "Bu1Dp1sqnK1-"
      },
      "source": [
        "df_emergencies = df['Declaration Date'].drop_duplicates()\n",
        "\n",
        "assert len(df_emergencies) == df_emergencies.nunique()"
      ],
      "execution_count": null,
      "outputs": []
    },
    {
      "cell_type": "code",
      "metadata": {
        "id": "9eoIeBq1pQXc"
      },
      "source": [
        "df_emergencies.to_csv('emergencies.csv')"
      ],
      "execution_count": null,
      "outputs": []
    },
    {
      "cell_type": "code",
      "metadata": {
        "id": "59UE4GvBqnPY"
      },
      "source": [
        "# https://www.kaggle.com/lsind18/daily-london-metal-fix-prices\n",
        "\n",
        "df1 = pd.read_csv('londonfixes-current-clean_1990_.csv', \n",
        "                  parse_dates=['Date'], \n",
        "                  index_col='Date')\n",
        "\n",
        "df2 = pd.read_csv('emergencies.csv', \n",
        "                  parse_dates=['Declaration Date'], \n",
        "                  index_col='Declaration Date')\n",
        "\n",
        "df2['Emergency_Declared'] = 'Yes'\n",
        "\n",
        "df2 = df2.drop(columns='Unnamed: 0')"
      ],
      "execution_count": null,
      "outputs": []
    },
    {
      "cell_type": "code",
      "metadata": {
        "id": "fTlyYtRwq5f6",
        "outputId": "7a11ea33-a55b-4984-f16f-fe8663318deb",
        "colab": {
          "base_uri": "https://localhost:8080/",
          "height": 354
        }
      },
      "source": [
        "print(df1.shape)\n",
        "df1.head()"
      ],
      "execution_count": null,
      "outputs": [
        {
          "output_type": "stream",
          "text": [
            "(7617, 7)\n"
          ],
          "name": "stdout"
        },
        {
          "output_type": "execute_result",
          "data": {
            "text/html": [
              "<div>\n",
              "<style scoped>\n",
              "    .dataframe tbody tr th:only-of-type {\n",
              "        vertical-align: middle;\n",
              "    }\n",
              "\n",
              "    .dataframe tbody tr th {\n",
              "        vertical-align: top;\n",
              "    }\n",
              "\n",
              "    .dataframe thead th {\n",
              "        text-align: right;\n",
              "    }\n",
              "</style>\n",
              "<table border=\"1\" class=\"dataframe\">\n",
              "  <thead>\n",
              "    <tr style=\"text-align: right;\">\n",
              "      <th></th>\n",
              "      <th>Gold AM Fix</th>\n",
              "      <th>Gold PM Fix</th>\n",
              "      <th>Silver Fix</th>\n",
              "      <th>Platinum AM Fix</th>\n",
              "      <th>Platinum PM Fix</th>\n",
              "      <th>Palladium AM Fix</th>\n",
              "      <th>Palladium PM Fix</th>\n",
              "    </tr>\n",
              "    <tr>\n",
              "      <th>Date</th>\n",
              "      <th></th>\n",
              "      <th></th>\n",
              "      <th></th>\n",
              "      <th></th>\n",
              "      <th></th>\n",
              "      <th></th>\n",
              "      <th></th>\n",
              "    </tr>\n",
              "  </thead>\n",
              "  <tbody>\n",
              "    <tr>\n",
              "      <th>1990-04-02</th>\n",
              "      <td>368.00</td>\n",
              "      <td>368.40</td>\n",
              "      <td>4.9375</td>\n",
              "      <td>471.00</td>\n",
              "      <td>470.50</td>\n",
              "      <td>128.00</td>\n",
              "      <td>127.65</td>\n",
              "    </tr>\n",
              "    <tr>\n",
              "      <th>1990-04-03</th>\n",
              "      <td>374.80</td>\n",
              "      <td>375.00</td>\n",
              "      <td>5.0010</td>\n",
              "      <td>475.80</td>\n",
              "      <td>477.25</td>\n",
              "      <td>128.35</td>\n",
              "      <td>128.50</td>\n",
              "    </tr>\n",
              "    <tr>\n",
              "      <th>1990-04-04</th>\n",
              "      <td>374.25</td>\n",
              "      <td>374.25</td>\n",
              "      <td>5.0100</td>\n",
              "      <td>475.70</td>\n",
              "      <td>476.75</td>\n",
              "      <td>128.35</td>\n",
              "      <td>128.00</td>\n",
              "    </tr>\n",
              "    <tr>\n",
              "      <th>1990-04-05</th>\n",
              "      <td>378.10</td>\n",
              "      <td>378.40</td>\n",
              "      <td>5.1475</td>\n",
              "      <td>481.75</td>\n",
              "      <td>481.85</td>\n",
              "      <td>128.40</td>\n",
              "      <td>127.75</td>\n",
              "    </tr>\n",
              "    <tr>\n",
              "      <th>1990-04-06</th>\n",
              "      <td>380.35</td>\n",
              "      <td>377.70</td>\n",
              "      <td>5.1790</td>\n",
              "      <td>481.00</td>\n",
              "      <td>480.25</td>\n",
              "      <td>128.75</td>\n",
              "      <td>128.50</td>\n",
              "    </tr>\n",
              "  </tbody>\n",
              "</table>\n",
              "</div>"
            ],
            "text/plain": [
              "            Gold AM Fix  Gold PM Fix  ...  Palladium AM Fix  Palladium PM Fix\n",
              "Date                                  ...                                    \n",
              "1990-04-02       368.00       368.40  ...            128.00            127.65\n",
              "1990-04-03       374.80       375.00  ...            128.35            128.50\n",
              "1990-04-04       374.25       374.25  ...            128.35            128.00\n",
              "1990-04-05       378.10       378.40  ...            128.40            127.75\n",
              "1990-04-06       380.35       377.70  ...            128.75            128.50\n",
              "\n",
              "[5 rows x 7 columns]"
            ]
          },
          "metadata": {
            "tags": []
          },
          "execution_count": 106
        }
      ]
    },
    {
      "cell_type": "code",
      "metadata": {
        "id": "nbp_2cuLq9aD",
        "outputId": "e3f86661-8823-4007-a3eb-47a15bd5da9c",
        "colab": {
          "base_uri": "https://localhost:8080/",
          "height": 252
        }
      },
      "source": [
        "print(df2.shape)\n",
        "df2.head()"
      ],
      "execution_count": null,
      "outputs": [
        {
          "output_type": "stream",
          "text": [
            "(2507, 1)\n"
          ],
          "name": "stdout"
        },
        {
          "output_type": "execute_result",
          "data": {
            "text/html": [
              "<div>\n",
              "<style scoped>\n",
              "    .dataframe tbody tr th:only-of-type {\n",
              "        vertical-align: middle;\n",
              "    }\n",
              "\n",
              "    .dataframe tbody tr th {\n",
              "        vertical-align: top;\n",
              "    }\n",
              "\n",
              "    .dataframe thead th {\n",
              "        text-align: right;\n",
              "    }\n",
              "</style>\n",
              "<table border=\"1\" class=\"dataframe\">\n",
              "  <thead>\n",
              "    <tr style=\"text-align: right;\">\n",
              "      <th></th>\n",
              "      <th>Emergency_Declared</th>\n",
              "    </tr>\n",
              "    <tr>\n",
              "      <th>Declaration Date</th>\n",
              "      <th></th>\n",
              "    </tr>\n",
              "  </thead>\n",
              "  <tbody>\n",
              "    <tr>\n",
              "      <th>1953-05-02</th>\n",
              "      <td>Yes</td>\n",
              "    </tr>\n",
              "    <tr>\n",
              "      <th>1953-05-15</th>\n",
              "      <td>Yes</td>\n",
              "    </tr>\n",
              "    <tr>\n",
              "      <th>1953-05-29</th>\n",
              "      <td>Yes</td>\n",
              "    </tr>\n",
              "    <tr>\n",
              "      <th>1953-06-02</th>\n",
              "      <td>Yes</td>\n",
              "    </tr>\n",
              "    <tr>\n",
              "      <th>1953-06-06</th>\n",
              "      <td>Yes</td>\n",
              "    </tr>\n",
              "  </tbody>\n",
              "</table>\n",
              "</div>"
            ],
            "text/plain": [
              "                 Emergency_Declared\n",
              "Declaration Date                   \n",
              "1953-05-02                      Yes\n",
              "1953-05-15                      Yes\n",
              "1953-05-29                      Yes\n",
              "1953-06-02                      Yes\n",
              "1953-06-06                      Yes"
            ]
          },
          "metadata": {
            "tags": []
          },
          "execution_count": 107
        }
      ]
    },
    {
      "cell_type": "code",
      "metadata": {
        "id": "HApsHa6es6qc"
      },
      "source": [
        "df_merged = pd.merge(df1, df2, left_index=True, right_index=True, how='outer')\n",
        "\n",
        "df_merged['Emergency_Declared'].fillna(value='No', inplace=True)\n",
        "\n",
        "df_merged.dropna(inplace=True)\n",
        "\n",
        "df_merged = df_merged[df_merged.index < '2017-02-15']"
      ],
      "execution_count": null,
      "outputs": []
    },
    {
      "cell_type": "code",
      "metadata": {
        "id": "-rplryvnvPYg",
        "outputId": "dee1df6e-418c-49a6-e602-3695e97a46f5",
        "colab": {
          "base_uri": "https://localhost:8080/",
          "height": 272
        }
      },
      "source": [
        "df_merged.info()"
      ],
      "execution_count": null,
      "outputs": [
        {
          "output_type": "stream",
          "text": [
            "<class 'pandas.core.frame.DataFrame'>\n",
            "DatetimeIndex: 6728 entries, 1990-04-02 to 2017-02-14\n",
            "Data columns (total 8 columns):\n",
            " #   Column              Non-Null Count  Dtype  \n",
            "---  ------              --------------  -----  \n",
            " 0   Gold AM Fix         6728 non-null   float64\n",
            " 1   Gold PM Fix         6728 non-null   float64\n",
            " 2   Silver Fix          6728 non-null   float64\n",
            " 3   Platinum AM Fix     6728 non-null   float64\n",
            " 4   Platinum PM Fix     6728 non-null   float64\n",
            " 5   Palladium AM Fix    6728 non-null   float64\n",
            " 6   Palladium PM Fix    6728 non-null   float64\n",
            " 7   Emergency_Declared  6728 non-null   object \n",
            "dtypes: float64(7), object(1)\n",
            "memory usage: 473.1+ KB\n"
          ],
          "name": "stdout"
        }
      ]
    },
    {
      "cell_type": "code",
      "metadata": {
        "id": "7xe9g9FOuVra",
        "outputId": "f37350eb-90c6-4e56-906d-3770e7456827",
        "colab": {
          "base_uri": "https://localhost:8080/",
          "height": 323
        }
      },
      "source": [
        "print(df_merged.shape)\n",
        "df_merged.head()"
      ],
      "execution_count": null,
      "outputs": [
        {
          "output_type": "stream",
          "text": [
            "(6728, 8)\n"
          ],
          "name": "stdout"
        },
        {
          "output_type": "execute_result",
          "data": {
            "text/html": [
              "<div>\n",
              "<style scoped>\n",
              "    .dataframe tbody tr th:only-of-type {\n",
              "        vertical-align: middle;\n",
              "    }\n",
              "\n",
              "    .dataframe tbody tr th {\n",
              "        vertical-align: top;\n",
              "    }\n",
              "\n",
              "    .dataframe thead th {\n",
              "        text-align: right;\n",
              "    }\n",
              "</style>\n",
              "<table border=\"1\" class=\"dataframe\">\n",
              "  <thead>\n",
              "    <tr style=\"text-align: right;\">\n",
              "      <th></th>\n",
              "      <th>Gold AM Fix</th>\n",
              "      <th>Gold PM Fix</th>\n",
              "      <th>Silver Fix</th>\n",
              "      <th>Platinum AM Fix</th>\n",
              "      <th>Platinum PM Fix</th>\n",
              "      <th>Palladium AM Fix</th>\n",
              "      <th>Palladium PM Fix</th>\n",
              "      <th>Emergency_Declared</th>\n",
              "    </tr>\n",
              "  </thead>\n",
              "  <tbody>\n",
              "    <tr>\n",
              "      <th>1990-04-02</th>\n",
              "      <td>368.00</td>\n",
              "      <td>368.40</td>\n",
              "      <td>4.9375</td>\n",
              "      <td>471.00</td>\n",
              "      <td>470.50</td>\n",
              "      <td>128.00</td>\n",
              "      <td>127.65</td>\n",
              "      <td>No</td>\n",
              "    </tr>\n",
              "    <tr>\n",
              "      <th>1990-04-03</th>\n",
              "      <td>374.80</td>\n",
              "      <td>375.00</td>\n",
              "      <td>5.0010</td>\n",
              "      <td>475.80</td>\n",
              "      <td>477.25</td>\n",
              "      <td>128.35</td>\n",
              "      <td>128.50</td>\n",
              "      <td>Yes</td>\n",
              "    </tr>\n",
              "    <tr>\n",
              "      <th>1990-04-04</th>\n",
              "      <td>374.25</td>\n",
              "      <td>374.25</td>\n",
              "      <td>5.0100</td>\n",
              "      <td>475.70</td>\n",
              "      <td>476.75</td>\n",
              "      <td>128.35</td>\n",
              "      <td>128.00</td>\n",
              "      <td>No</td>\n",
              "    </tr>\n",
              "    <tr>\n",
              "      <th>1990-04-05</th>\n",
              "      <td>378.10</td>\n",
              "      <td>378.40</td>\n",
              "      <td>5.1475</td>\n",
              "      <td>481.75</td>\n",
              "      <td>481.85</td>\n",
              "      <td>128.40</td>\n",
              "      <td>127.75</td>\n",
              "      <td>No</td>\n",
              "    </tr>\n",
              "    <tr>\n",
              "      <th>1990-04-06</th>\n",
              "      <td>380.35</td>\n",
              "      <td>377.70</td>\n",
              "      <td>5.1790</td>\n",
              "      <td>481.00</td>\n",
              "      <td>480.25</td>\n",
              "      <td>128.75</td>\n",
              "      <td>128.50</td>\n",
              "      <td>No</td>\n",
              "    </tr>\n",
              "  </tbody>\n",
              "</table>\n",
              "</div>"
            ],
            "text/plain": [
              "            Gold AM Fix  Gold PM Fix  ...  Palladium PM Fix  Emergency_Declared\n",
              "1990-04-02       368.00       368.40  ...            127.65                  No\n",
              "1990-04-03       374.80       375.00  ...            128.50                 Yes\n",
              "1990-04-04       374.25       374.25  ...            128.00                  No\n",
              "1990-04-05       378.10       378.40  ...            127.75                  No\n",
              "1990-04-06       380.35       377.70  ...            128.50                  No\n",
              "\n",
              "[5 rows x 8 columns]"
            ]
          },
          "metadata": {
            "tags": []
          },
          "execution_count": 111
        }
      ]
    },
    {
      "cell_type": "code",
      "metadata": {
        "id": "WQ1iXa5G2yxY",
        "outputId": "c1b4ee7d-edd1-4d90-822d-172d4e5706e7",
        "colab": {
          "base_uri": "https://localhost:8080/",
          "height": 34
        }
      },
      "source": [
        "6728 * 0.80"
      ],
      "execution_count": null,
      "outputs": [
        {
          "output_type": "execute_result",
          "data": {
            "text/plain": [
              "5382.400000000001"
            ]
          },
          "metadata": {
            "tags": []
          },
          "execution_count": 112
        }
      ]
    },
    {
      "cell_type": "code",
      "metadata": {
        "id": "X3WM1p0B240E",
        "outputId": "556f40a3-33a7-470f-f7da-107ddad38ac8",
        "colab": {
          "base_uri": "https://localhost:8080/",
          "height": 34
        }
      },
      "source": [
        "df_merged.index[5382]"
      ],
      "execution_count": null,
      "outputs": [
        {
          "output_type": "execute_result",
          "data": {
            "text/plain": [
              "Timestamp('2011-10-03 00:00:00')"
            ]
          },
          "metadata": {
            "tags": []
          },
          "execution_count": 113
        }
      ]
    },
    {
      "cell_type": "code",
      "metadata": {
        "id": "2XK-SgVZx05O"
      },
      "source": [
        "# Splitting into target and feature matrix\n",
        "\n",
        "target = 'Emergency_Declared'\n",
        "\n",
        "y = df_merged[target]\n",
        "X = df_merged.drop(columns=target)"
      ],
      "execution_count": null,
      "outputs": []
    },
    {
      "cell_type": "code",
      "metadata": {
        "id": "NBlGNFdizuV8"
      },
      "source": [
        "# Splitting into training and test sets:\n",
        "\n",
        "cutoff = '2011-10-03'\n",
        "mask = X.index < cutoff\n",
        "\n",
        "X_train, y_train = X.loc[mask], y.loc[mask]\n",
        "X_test, y_test = X.loc[~mask], y.loc[~mask]"
      ],
      "execution_count": null,
      "outputs": []
    },
    {
      "cell_type": "code",
      "metadata": {
        "id": "t7JAN2Jl3ogE"
      },
      "source": [
        "assert len(X_train) + len(X_test) == len(X)"
      ],
      "execution_count": null,
      "outputs": []
    },
    {
      "cell_type": "code",
      "metadata": {
        "id": "RVCcAoIrxxUq",
        "outputId": "359018d8-df51-45c4-cd73-aac48c23bc6d",
        "colab": {
          "base_uri": "https://localhost:8080/",
          "height": 34
        }
      },
      "source": [
        "# Establishing baseline (classification problem, so majority class)\n",
        "\n",
        "baseline_acc = y_train.value_counts(normalize=True).max()\n",
        "\n",
        "print('Baseline Accuracy:', baseline_acc)"
      ],
      "execution_count": null,
      "outputs": [
        {
          "output_type": "stream",
          "text": [
            "Baseline Accuracy: 0.771832032701598\n"
          ],
          "name": "stdout"
        }
      ]
    },
    {
      "cell_type": "code",
      "metadata": {
        "id": "qtQ0oetg3vOw"
      },
      "source": [
        "from sklearn.impute import SimpleImputer\n",
        "from sklearn.pipeline import make_pipeline\n",
        "from sklearn.ensemble import RandomForestClassifier\n",
        "\n",
        "# Building model pipeline\n",
        "\n",
        "forest_model = make_pipeline(\n",
        "      SimpleImputer(),\n",
        "      RandomForestClassifier(random_state=42,\n",
        "                            n_jobs=-1,\n",
        "      ))"
      ],
      "execution_count": null,
      "outputs": []
    },
    {
      "cell_type": "code",
      "metadata": {
        "id": "l5wFJrS637-u",
        "outputId": "95fa07bb-b117-49f3-a5ab-71c21fd61c09",
        "colab": {
          "base_uri": "https://localhost:8080/",
          "height": 323
        }
      },
      "source": [
        "forest_model.fit(X_train, y_train)"
      ],
      "execution_count": null,
      "outputs": [
        {
          "output_type": "execute_result",
          "data": {
            "text/plain": [
              "Pipeline(memory=None,\n",
              "         steps=[('simpleimputer',\n",
              "                 SimpleImputer(add_indicator=False, copy=True, fill_value=None,\n",
              "                               missing_values=nan, strategy='mean',\n",
              "                               verbose=0)),\n",
              "                ('randomforestclassifier',\n",
              "                 RandomForestClassifier(bootstrap=True, ccp_alpha=0.0,\n",
              "                                        class_weight=None, criterion='gini',\n",
              "                                        max_depth=None, max_features='auto',\n",
              "                                        max_leaf_nodes=None, max_samples=None,\n",
              "                                        min_impurity_decrease=0.0,\n",
              "                                        min_impurity_split=None,\n",
              "                                        min_samples_leaf=1, min_samples_split=2,\n",
              "                                        min_weight_fraction_leaf=0.0,\n",
              "                                        n_estimators=100, n_jobs=-1,\n",
              "                                        oob_score=False, random_state=42,\n",
              "                                        verbose=0, warm_start=False))],\n",
              "         verbose=False)"
            ]
          },
          "metadata": {
            "tags": []
          },
          "execution_count": 118
        }
      ]
    },
    {
      "cell_type": "code",
      "metadata": {
        "id": "DC6zsumM4C6f",
        "outputId": "682271fe-537f-458d-ed38-1daecbdf890f",
        "colab": {
          "base_uri": "https://localhost:8080/",
          "height": 51
        }
      },
      "source": [
        "# Checking metrics\n",
        "\n",
        "print('FOREST: Training Accuracy:', forest_model.score(X_train, y_train))\n",
        "print('FOREST: Testing Accuracy:', forest_model.score(X_test, y_test))"
      ],
      "execution_count": null,
      "outputs": [
        {
          "output_type": "stream",
          "text": [
            "FOREST: Training Accuracy: 0.9998141954663694\n",
            "FOREST: Testing Accuracy: 0.789261744966443\n"
          ],
          "name": "stdout"
        }
      ]
    }
  ]
}