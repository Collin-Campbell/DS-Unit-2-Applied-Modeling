{
  "nbformat": 4,
  "nbformat_minor": 0,
  "metadata": {
    "colab": {
      "name": "BuildWeek2.ipynb",
      "provenance": [],
      "collapsed_sections": [],
      "authorship_tag": "ABX9TyPoGaiMhhQ9jmk4lO+87E8v",
      "include_colab_link": true
    },
    "kernelspec": {
      "name": "python3",
      "display_name": "Python 3"
    }
  },
  "cells": [
    {
      "cell_type": "markdown",
      "metadata": {
        "id": "view-in-github",
        "colab_type": "text"
      },
      "source": [
        "<a href=\"https://colab.research.google.com/github/Collin-Campbell/DS-Unit-2-Applied-Modeling/blob/master/module3-permutation-boosting/LS_DS_233_assignment.ipynb\" target=\"_parent\"><img src=\"https://colab.research.google.com/assets/colab-badge.svg\" alt=\"Open In Colab\"/></a>"
      ]
    },
    {
      "cell_type": "code",
      "metadata": {
        "id": "1S_0MJo-l5qs"
      },
      "source": [
        "import pandas as pd\n",
        "\n",
        "# https://www.kaggle.com/fema/federal-disasters\n",
        "\n",
        "df = pd.read_csv('database.csv', parse_dates=['Declaration Date'])"
      ],
      "execution_count": 1,
      "outputs": []
    },
    {
      "cell_type": "code",
      "metadata": {
        "id": "u-TN915AmgKH",
        "outputId": "914e8328-804d-433a-e693-d1b31704541b",
        "colab": {
          "base_uri": "https://localhost:8080/",
          "height": 326
        }
      },
      "source": [
        "print(df.shape)\n",
        "df.head()"
      ],
      "execution_count": 2,
      "outputs": [
        {
          "output_type": "stream",
          "text": [
            "(46185, 14)\n"
          ],
          "name": "stdout"
        },
        {
          "output_type": "execute_result",
          "data": {
            "text/html": [
              "<div>\n",
              "<style scoped>\n",
              "    .dataframe tbody tr th:only-of-type {\n",
              "        vertical-align: middle;\n",
              "    }\n",
              "\n",
              "    .dataframe tbody tr th {\n",
              "        vertical-align: top;\n",
              "    }\n",
              "\n",
              "    .dataframe thead th {\n",
              "        text-align: right;\n",
              "    }\n",
              "</style>\n",
              "<table border=\"1\" class=\"dataframe\">\n",
              "  <thead>\n",
              "    <tr style=\"text-align: right;\">\n",
              "      <th></th>\n",
              "      <th>Declaration Number</th>\n",
              "      <th>Declaration Type</th>\n",
              "      <th>Declaration Date</th>\n",
              "      <th>State</th>\n",
              "      <th>County</th>\n",
              "      <th>Disaster Type</th>\n",
              "      <th>Disaster Title</th>\n",
              "      <th>Start Date</th>\n",
              "      <th>End Date</th>\n",
              "      <th>Close Date</th>\n",
              "      <th>Individual Assistance Program</th>\n",
              "      <th>Individuals &amp; Households Program</th>\n",
              "      <th>Public Assistance Program</th>\n",
              "      <th>Hazard Mitigation Program</th>\n",
              "    </tr>\n",
              "  </thead>\n",
              "  <tbody>\n",
              "    <tr>\n",
              "      <th>0</th>\n",
              "      <td>DR-1</td>\n",
              "      <td>Disaster</td>\n",
              "      <td>1953-05-02</td>\n",
              "      <td>GA</td>\n",
              "      <td>NaN</td>\n",
              "      <td>Tornado</td>\n",
              "      <td>Tornado</td>\n",
              "      <td>05/02/1953</td>\n",
              "      <td>05/02/1953</td>\n",
              "      <td>06/01/1954</td>\n",
              "      <td>Yes</td>\n",
              "      <td>No</td>\n",
              "      <td>Yes</td>\n",
              "      <td>Yes</td>\n",
              "    </tr>\n",
              "    <tr>\n",
              "      <th>1</th>\n",
              "      <td>DR-2</td>\n",
              "      <td>Disaster</td>\n",
              "      <td>1953-05-15</td>\n",
              "      <td>TX</td>\n",
              "      <td>NaN</td>\n",
              "      <td>Tornado</td>\n",
              "      <td>Tornado and Heavy Rainfall</td>\n",
              "      <td>05/15/1953</td>\n",
              "      <td>05/15/1953</td>\n",
              "      <td>01/01/1958</td>\n",
              "      <td>Yes</td>\n",
              "      <td>No</td>\n",
              "      <td>Yes</td>\n",
              "      <td>Yes</td>\n",
              "    </tr>\n",
              "    <tr>\n",
              "      <th>2</th>\n",
              "      <td>DR-3</td>\n",
              "      <td>Disaster</td>\n",
              "      <td>1953-05-29</td>\n",
              "      <td>LA</td>\n",
              "      <td>NaN</td>\n",
              "      <td>Flood</td>\n",
              "      <td>Flood</td>\n",
              "      <td>05/29/1953</td>\n",
              "      <td>05/29/1953</td>\n",
              "      <td>02/01/1960</td>\n",
              "      <td>Yes</td>\n",
              "      <td>No</td>\n",
              "      <td>Yes</td>\n",
              "      <td>Yes</td>\n",
              "    </tr>\n",
              "    <tr>\n",
              "      <th>3</th>\n",
              "      <td>DR-4</td>\n",
              "      <td>Disaster</td>\n",
              "      <td>1953-06-02</td>\n",
              "      <td>MI</td>\n",
              "      <td>NaN</td>\n",
              "      <td>Tornado</td>\n",
              "      <td>Tornado</td>\n",
              "      <td>06/02/1953</td>\n",
              "      <td>06/02/1953</td>\n",
              "      <td>02/01/1956</td>\n",
              "      <td>Yes</td>\n",
              "      <td>No</td>\n",
              "      <td>Yes</td>\n",
              "      <td>Yes</td>\n",
              "    </tr>\n",
              "    <tr>\n",
              "      <th>4</th>\n",
              "      <td>DR-5</td>\n",
              "      <td>Disaster</td>\n",
              "      <td>1953-06-06</td>\n",
              "      <td>MT</td>\n",
              "      <td>NaN</td>\n",
              "      <td>Flood</td>\n",
              "      <td>Floods</td>\n",
              "      <td>06/06/1953</td>\n",
              "      <td>06/06/1953</td>\n",
              "      <td>12/01/1955</td>\n",
              "      <td>Yes</td>\n",
              "      <td>No</td>\n",
              "      <td>Yes</td>\n",
              "      <td>Yes</td>\n",
              "    </tr>\n",
              "  </tbody>\n",
              "</table>\n",
              "</div>"
            ],
            "text/plain": [
              "  Declaration Number  ... Hazard Mitigation Program\n",
              "0               DR-1  ...                       Yes\n",
              "1               DR-2  ...                       Yes\n",
              "2               DR-3  ...                       Yes\n",
              "3               DR-4  ...                       Yes\n",
              "4               DR-5  ...                       Yes\n",
              "\n",
              "[5 rows x 14 columns]"
            ]
          },
          "metadata": {
            "tags": []
          },
          "execution_count": 2
        }
      ]
    },
    {
      "cell_type": "code",
      "metadata": {
        "id": "Bu1Dp1sqnK1-"
      },
      "source": [
        "df_emergencies = df['Declaration Date'].drop_duplicates()\n",
        "\n",
        "assert len(df_emergencies) == df_emergencies.nunique()"
      ],
      "execution_count": 6,
      "outputs": []
    },
    {
      "cell_type": "code",
      "metadata": {
        "id": "9eoIeBq1pQXc"
      },
      "source": [
        "df_emergencies.to_csv('emergencies.csv')"
      ],
      "execution_count": 7,
      "outputs": []
    },
    {
      "cell_type": "code",
      "metadata": {
        "id": "59UE4GvBqnPY"
      },
      "source": [
        "# https://www.kaggle.com/lsind18/daily-london-metal-fix-prices\n",
        "\n",
        "df1 = pd.read_csv('londonfixes-current-clean_1990_.csv', \n",
        "                  parse_dates=['Date'], \n",
        "                  index_col='Date')\n",
        "\n",
        "df2 = pd.read_csv('emergencies.csv', \n",
        "                  parse_dates=['Declaration Date'], \n",
        "                  index_col='Declaration Date')\n",
        "\n",
        "df2['Emergency_Declared'] = 'Yes'\n",
        "\n",
        "df2 = df2.drop(columns='Unnamed: 0')"
      ],
      "execution_count": 39,
      "outputs": []
    },
    {
      "cell_type": "code",
      "metadata": {
        "id": "fTlyYtRwq5f6",
        "outputId": "f7d40d98-cd2b-4834-c923-c14946e47c43",
        "colab": {
          "base_uri": "https://localhost:8080/",
          "height": 354
        }
      },
      "source": [
        "print(df1.shape)\n",
        "df1.head()"
      ],
      "execution_count": 40,
      "outputs": [
        {
          "output_type": "stream",
          "text": [
            "(7617, 7)\n"
          ],
          "name": "stdout"
        },
        {
          "output_type": "execute_result",
          "data": {
            "text/html": [
              "<div>\n",
              "<style scoped>\n",
              "    .dataframe tbody tr th:only-of-type {\n",
              "        vertical-align: middle;\n",
              "    }\n",
              "\n",
              "    .dataframe tbody tr th {\n",
              "        vertical-align: top;\n",
              "    }\n",
              "\n",
              "    .dataframe thead th {\n",
              "        text-align: right;\n",
              "    }\n",
              "</style>\n",
              "<table border=\"1\" class=\"dataframe\">\n",
              "  <thead>\n",
              "    <tr style=\"text-align: right;\">\n",
              "      <th></th>\n",
              "      <th>Gold AM Fix</th>\n",
              "      <th>Gold PM Fix</th>\n",
              "      <th>Silver Fix</th>\n",
              "      <th>Platinum AM Fix</th>\n",
              "      <th>Platinum PM Fix</th>\n",
              "      <th>Palladium AM Fix</th>\n",
              "      <th>Palladium PM Fix</th>\n",
              "    </tr>\n",
              "    <tr>\n",
              "      <th>Date</th>\n",
              "      <th></th>\n",
              "      <th></th>\n",
              "      <th></th>\n",
              "      <th></th>\n",
              "      <th></th>\n",
              "      <th></th>\n",
              "      <th></th>\n",
              "    </tr>\n",
              "  </thead>\n",
              "  <tbody>\n",
              "    <tr>\n",
              "      <th>1990-04-02</th>\n",
              "      <td>368.00</td>\n",
              "      <td>368.40</td>\n",
              "      <td>4.9375</td>\n",
              "      <td>471.00</td>\n",
              "      <td>470.50</td>\n",
              "      <td>128.00</td>\n",
              "      <td>127.65</td>\n",
              "    </tr>\n",
              "    <tr>\n",
              "      <th>1990-04-03</th>\n",
              "      <td>374.80</td>\n",
              "      <td>375.00</td>\n",
              "      <td>5.0010</td>\n",
              "      <td>475.80</td>\n",
              "      <td>477.25</td>\n",
              "      <td>128.35</td>\n",
              "      <td>128.50</td>\n",
              "    </tr>\n",
              "    <tr>\n",
              "      <th>1990-04-04</th>\n",
              "      <td>374.25</td>\n",
              "      <td>374.25</td>\n",
              "      <td>5.0100</td>\n",
              "      <td>475.70</td>\n",
              "      <td>476.75</td>\n",
              "      <td>128.35</td>\n",
              "      <td>128.00</td>\n",
              "    </tr>\n",
              "    <tr>\n",
              "      <th>1990-04-05</th>\n",
              "      <td>378.10</td>\n",
              "      <td>378.40</td>\n",
              "      <td>5.1475</td>\n",
              "      <td>481.75</td>\n",
              "      <td>481.85</td>\n",
              "      <td>128.40</td>\n",
              "      <td>127.75</td>\n",
              "    </tr>\n",
              "    <tr>\n",
              "      <th>1990-04-06</th>\n",
              "      <td>380.35</td>\n",
              "      <td>377.70</td>\n",
              "      <td>5.1790</td>\n",
              "      <td>481.00</td>\n",
              "      <td>480.25</td>\n",
              "      <td>128.75</td>\n",
              "      <td>128.50</td>\n",
              "    </tr>\n",
              "  </tbody>\n",
              "</table>\n",
              "</div>"
            ],
            "text/plain": [
              "            Gold AM Fix  Gold PM Fix  ...  Palladium AM Fix  Palladium PM Fix\n",
              "Date                                  ...                                    \n",
              "1990-04-02       368.00       368.40  ...            128.00            127.65\n",
              "1990-04-03       374.80       375.00  ...            128.35            128.50\n",
              "1990-04-04       374.25       374.25  ...            128.35            128.00\n",
              "1990-04-05       378.10       378.40  ...            128.40            127.75\n",
              "1990-04-06       380.35       377.70  ...            128.75            128.50\n",
              "\n",
              "[5 rows x 7 columns]"
            ]
          },
          "metadata": {
            "tags": []
          },
          "execution_count": 40
        }
      ]
    },
    {
      "cell_type": "code",
      "metadata": {
        "id": "nbp_2cuLq9aD",
        "outputId": "43af560b-238b-4ced-8c36-60e46d43cf4f",
        "colab": {
          "base_uri": "https://localhost:8080/",
          "height": 252
        }
      },
      "source": [
        "print(df2.shape)\n",
        "df2.head()"
      ],
      "execution_count": 41,
      "outputs": [
        {
          "output_type": "stream",
          "text": [
            "(2507, 1)\n"
          ],
          "name": "stdout"
        },
        {
          "output_type": "execute_result",
          "data": {
            "text/html": [
              "<div>\n",
              "<style scoped>\n",
              "    .dataframe tbody tr th:only-of-type {\n",
              "        vertical-align: middle;\n",
              "    }\n",
              "\n",
              "    .dataframe tbody tr th {\n",
              "        vertical-align: top;\n",
              "    }\n",
              "\n",
              "    .dataframe thead th {\n",
              "        text-align: right;\n",
              "    }\n",
              "</style>\n",
              "<table border=\"1\" class=\"dataframe\">\n",
              "  <thead>\n",
              "    <tr style=\"text-align: right;\">\n",
              "      <th></th>\n",
              "      <th>Emergency_Declared</th>\n",
              "    </tr>\n",
              "    <tr>\n",
              "      <th>Declaration Date</th>\n",
              "      <th></th>\n",
              "    </tr>\n",
              "  </thead>\n",
              "  <tbody>\n",
              "    <tr>\n",
              "      <th>1953-05-02</th>\n",
              "      <td>Yes</td>\n",
              "    </tr>\n",
              "    <tr>\n",
              "      <th>1953-05-15</th>\n",
              "      <td>Yes</td>\n",
              "    </tr>\n",
              "    <tr>\n",
              "      <th>1953-05-29</th>\n",
              "      <td>Yes</td>\n",
              "    </tr>\n",
              "    <tr>\n",
              "      <th>1953-06-02</th>\n",
              "      <td>Yes</td>\n",
              "    </tr>\n",
              "    <tr>\n",
              "      <th>1953-06-06</th>\n",
              "      <td>Yes</td>\n",
              "    </tr>\n",
              "  </tbody>\n",
              "</table>\n",
              "</div>"
            ],
            "text/plain": [
              "                 Emergency_Declared\n",
              "Declaration Date                   \n",
              "1953-05-02                      Yes\n",
              "1953-05-15                      Yes\n",
              "1953-05-29                      Yes\n",
              "1953-06-02                      Yes\n",
              "1953-06-06                      Yes"
            ]
          },
          "metadata": {
            "tags": []
          },
          "execution_count": 41
        }
      ]
    },
    {
      "cell_type": "code",
      "metadata": {
        "id": "HApsHa6es6qc"
      },
      "source": [
        "df_merged = pd.merge(df1, df2, left_index=True, right_index=True, how='outer')\n",
        "\n",
        "df_merged['Emergency_Declared'].fillna(value='No', inplace=True)\n",
        "\n",
        "df_merged.dropna(inplace=True)\n",
        "\n",
        "df_merged = df_merged[df_merged.index < '2017-02-15']\n",
        "\n",
        "df_merged['Percentage_Change_Gold'] = (df_merged['Gold PM Fix'] - df_merged['Gold AM Fix']) / df_merged['Gold AM Fix'] * 100\n",
        "\n",
        "df_merged['Percentage_Change_Platinum'] = (df_merged['Platinum PM Fix'] - df_merged['Platinum AM Fix']) / df_merged['Platinum AM Fix'] * 100\n",
        "\n",
        "df_merged['Percentage_Change_Palladium'] = (df_merged['Palladium PM Fix'] - df_merged['Palladium AM Fix']) / df_merged['Palladium AM Fix'] * 100\n",
        "\n",
        "df_merged = df_merged[['Silver Fix', 'Gold AM Fix', 'Gold PM Fix', 'Percentage_Change_Gold', \n",
        "         'Platinum AM Fix', 'Platinum PM Fix', 'Percentage_Change_Platinum', \n",
        "         'Palladium AM Fix', 'Palladium PM Fix', 'Percentage_Change_Palladium', \n",
        "         'Emergency_Declared']]\n",
        "\n",
        "df_merged = df_merged.drop(['Silver Fix', 'Gold AM Fix', 'Gold PM Fix',\n",
        "                           'Platinum AM Fix', 'Platinum PM Fix', 'Palladium AM Fix', \n",
        "                           'Palladium PM Fix'], axis=1)"
      ],
      "execution_count": 43,
      "outputs": []
    },
    {
      "cell_type": "code",
      "metadata": {
        "id": "-rplryvnvPYg",
        "outputId": "716ccd84-adcf-4343-ca20-d19d609b12c1",
        "colab": {
          "base_uri": "https://localhost:8080/",
          "height": 204
        }
      },
      "source": [
        "df_merged.info()"
      ],
      "execution_count": 44,
      "outputs": [
        {
          "output_type": "stream",
          "text": [
            "<class 'pandas.core.frame.DataFrame'>\n",
            "DatetimeIndex: 6728 entries, 1990-04-02 to 2017-02-14\n",
            "Data columns (total 4 columns):\n",
            " #   Column                       Non-Null Count  Dtype  \n",
            "---  ------                       --------------  -----  \n",
            " 0   Percentage_Change_Gold       6728 non-null   float64\n",
            " 1   Percentage_Change_Platinum   6728 non-null   float64\n",
            " 2   Percentage_Change_Palladium  6728 non-null   float64\n",
            " 3   Emergency_Declared           6728 non-null   object \n",
            "dtypes: float64(3), object(1)\n",
            "memory usage: 262.8+ KB\n"
          ],
          "name": "stdout"
        }
      ]
    },
    {
      "cell_type": "code",
      "metadata": {
        "id": "7xe9g9FOuVra",
        "outputId": "5210d773-d116-40e7-b121-46adf5fbd21c",
        "colab": {
          "base_uri": "https://localhost:8080/",
          "height": 326
        }
      },
      "source": [
        "print(df_merged.shape)\n",
        "df_merged.head()"
      ],
      "execution_count": 45,
      "outputs": [
        {
          "output_type": "stream",
          "text": [
            "(6728, 4)\n"
          ],
          "name": "stdout"
        },
        {
          "output_type": "execute_result",
          "data": {
            "text/html": [
              "<div>\n",
              "<style scoped>\n",
              "    .dataframe tbody tr th:only-of-type {\n",
              "        vertical-align: middle;\n",
              "    }\n",
              "\n",
              "    .dataframe tbody tr th {\n",
              "        vertical-align: top;\n",
              "    }\n",
              "\n",
              "    .dataframe thead th {\n",
              "        text-align: right;\n",
              "    }\n",
              "</style>\n",
              "<table border=\"1\" class=\"dataframe\">\n",
              "  <thead>\n",
              "    <tr style=\"text-align: right;\">\n",
              "      <th></th>\n",
              "      <th>Percentage_Change_Gold</th>\n",
              "      <th>Percentage_Change_Platinum</th>\n",
              "      <th>Percentage_Change_Palladium</th>\n",
              "      <th>Emergency_Declared</th>\n",
              "    </tr>\n",
              "  </thead>\n",
              "  <tbody>\n",
              "    <tr>\n",
              "      <th>1990-04-02</th>\n",
              "      <td>0.108696</td>\n",
              "      <td>-0.106157</td>\n",
              "      <td>-0.273437</td>\n",
              "      <td>No</td>\n",
              "    </tr>\n",
              "    <tr>\n",
              "      <th>1990-04-03</th>\n",
              "      <td>0.053362</td>\n",
              "      <td>0.304750</td>\n",
              "      <td>0.116868</td>\n",
              "      <td>Yes</td>\n",
              "    </tr>\n",
              "    <tr>\n",
              "      <th>1990-04-04</th>\n",
              "      <td>0.000000</td>\n",
              "      <td>0.220727</td>\n",
              "      <td>-0.272692</td>\n",
              "      <td>No</td>\n",
              "    </tr>\n",
              "    <tr>\n",
              "      <th>1990-04-05</th>\n",
              "      <td>0.079344</td>\n",
              "      <td>0.020758</td>\n",
              "      <td>-0.506231</td>\n",
              "      <td>No</td>\n",
              "    </tr>\n",
              "    <tr>\n",
              "      <th>1990-04-06</th>\n",
              "      <td>-0.696727</td>\n",
              "      <td>-0.155925</td>\n",
              "      <td>-0.194175</td>\n",
              "      <td>No</td>\n",
              "    </tr>\n",
              "  </tbody>\n",
              "</table>\n",
              "</div>"
            ],
            "text/plain": [
              "            Percentage_Change_Gold  ...  Emergency_Declared\n",
              "1990-04-02                0.108696  ...                  No\n",
              "1990-04-03                0.053362  ...                 Yes\n",
              "1990-04-04                0.000000  ...                  No\n",
              "1990-04-05                0.079344  ...                  No\n",
              "1990-04-06               -0.696727  ...                  No\n",
              "\n",
              "[5 rows x 4 columns]"
            ]
          },
          "metadata": {
            "tags": []
          },
          "execution_count": 45
        }
      ]
    },
    {
      "cell_type": "code",
      "metadata": {
        "id": "WQ1iXa5G2yxY",
        "outputId": "83e21c8e-c0da-4d51-c5e7-9e9c29752b99",
        "colab": {
          "base_uri": "https://localhost:8080/",
          "height": 34
        }
      },
      "source": [
        "6728 * 0.80"
      ],
      "execution_count": 46,
      "outputs": [
        {
          "output_type": "execute_result",
          "data": {
            "text/plain": [
              "5382.400000000001"
            ]
          },
          "metadata": {
            "tags": []
          },
          "execution_count": 46
        }
      ]
    },
    {
      "cell_type": "code",
      "metadata": {
        "id": "X3WM1p0B240E",
        "outputId": "4dbc318f-d583-48eb-94d4-5673ea7a4456",
        "colab": {
          "base_uri": "https://localhost:8080/",
          "height": 34
        }
      },
      "source": [
        "df_merged.index[5382]"
      ],
      "execution_count": 47,
      "outputs": [
        {
          "output_type": "execute_result",
          "data": {
            "text/plain": [
              "Timestamp('2011-10-03 00:00:00')"
            ]
          },
          "metadata": {
            "tags": []
          },
          "execution_count": 47
        }
      ]
    },
    {
      "cell_type": "code",
      "metadata": {
        "id": "2XK-SgVZx05O"
      },
      "source": [
        "# Splitting into target and feature matrix\n",
        "\n",
        "target = 'Emergency_Declared'\n",
        "\n",
        "y = df_merged[target]\n",
        "X = df_merged.drop(columns=target)"
      ],
      "execution_count": 48,
      "outputs": []
    },
    {
      "cell_type": "code",
      "metadata": {
        "id": "NBlGNFdizuV8"
      },
      "source": [
        "# Splitting into training and test sets:\n",
        "\n",
        "cutoff = '2011-10-03'\n",
        "mask = X.index < cutoff\n",
        "\n",
        "X_train, y_train = X.loc[mask], y.loc[mask]\n",
        "X_test, y_test = X.loc[~mask], y.loc[~mask]"
      ],
      "execution_count": 49,
      "outputs": []
    },
    {
      "cell_type": "code",
      "metadata": {
        "id": "t7JAN2Jl3ogE"
      },
      "source": [
        "assert len(X_train) + len(X_test) == len(X)"
      ],
      "execution_count": 50,
      "outputs": []
    },
    {
      "cell_type": "code",
      "metadata": {
        "id": "RVCcAoIrxxUq",
        "outputId": "58c8ab46-347e-4874-8ce2-3bb5317234fb",
        "colab": {
          "base_uri": "https://localhost:8080/",
          "height": 34
        }
      },
      "source": [
        "# Establishing baseline (classification problem, so majority class)\n",
        "\n",
        "baseline_acc = y_train.value_counts(normalize=True).max()\n",
        "\n",
        "print('Baseline Accuracy:', baseline_acc)"
      ],
      "execution_count": 51,
      "outputs": [
        {
          "output_type": "stream",
          "text": [
            "Baseline Accuracy: 0.771832032701598\n"
          ],
          "name": "stdout"
        }
      ]
    },
    {
      "cell_type": "code",
      "metadata": {
        "id": "qtQ0oetg3vOw"
      },
      "source": [
        "from sklearn.pipeline import make_pipeline\n",
        "from xgboost import XGBClassifier\n",
        "\n",
        "# Building model pipeline\n",
        "\n",
        "XGB_model = make_pipeline(\n",
        "      XGBClassifier(random_state=42, n_jobs=-1, n_estimators=500, max_depth=3)\n",
        "      )"
      ],
      "execution_count": 87,
      "outputs": []
    },
    {
      "cell_type": "code",
      "metadata": {
        "id": "l5wFJrS637-u",
        "outputId": "7209ec87-7805-4b35-aa71-3ea1c80c7e13",
        "colab": {
          "base_uri": "https://localhost:8080/",
          "height": 238
        }
      },
      "source": [
        "XGB_model.fit(X_train, y_train)"
      ],
      "execution_count": 88,
      "outputs": [
        {
          "output_type": "execute_result",
          "data": {
            "text/plain": [
              "Pipeline(memory=None,\n",
              "         steps=[('xgbclassifier',\n",
              "                 XGBClassifier(base_score=0.5, booster='gbtree',\n",
              "                               colsample_bylevel=1, colsample_bynode=1,\n",
              "                               colsample_bytree=1, gamma=0, learning_rate=0.1,\n",
              "                               max_delta_step=0, max_depth=3,\n",
              "                               min_child_weight=1, missing=None,\n",
              "                               n_estimators=500, n_jobs=-1, nthread=None,\n",
              "                               objective='binary:logistic', random_state=42,\n",
              "                               reg_alpha=0, reg_lambda=1, scale_pos_weight=1,\n",
              "                               seed=None, silent=None, subsample=1,\n",
              "                               verbosity=1))],\n",
              "         verbose=False)"
            ]
          },
          "metadata": {
            "tags": []
          },
          "execution_count": 88
        }
      ]
    },
    {
      "cell_type": "code",
      "metadata": {
        "id": "tkTioqqdfrOQ",
        "outputId": "5b927544-71a5-48d3-fc34-6a4649e99838",
        "colab": {
          "base_uri": "https://localhost:8080/",
          "height": 51
        }
      },
      "source": [
        "# Checking metrics\n",
        "\n",
        "print('XGB: Training Accuracy:', XGB_model.score(X_train, y_train))\n",
        "print('XGB: Testing Accuracy:', XGB_model.score(X_test, y_test))"
      ],
      "execution_count": 89,
      "outputs": [
        {
          "output_type": "stream",
          "text": [
            "XGB: Training Accuracy: 0.8028613898179116\n",
            "XGB: Testing Accuracy: 0.8046062407132244\n"
          ],
          "name": "stdout"
        }
      ]
    },
    {
      "cell_type": "code",
      "metadata": {
        "id": "C4oaJ5Q4hsOe"
      },
      "source": [
        "# Determining Permutation Importance\n",
        "\n",
        "from sklearn.inspection import permutation_importance\n",
        "\n",
        "perm_imp = permutation_importance(XGB_model, X_test, y_test, n_jobs=10, random_state=42)"
      ],
      "execution_count": 91,
      "outputs": []
    },
    {
      "cell_type": "code",
      "metadata": {
        "id": "2NWSNi2eh-fl",
        "outputId": "1721fa74-a181-4cb1-bd92-8a68017df771",
        "colab": {
          "base_uri": "https://localhost:8080/",
          "height": 295
        }
      },
      "source": [
        "import matplotlib.pyplot as plt\n",
        "\n",
        "\n",
        "# Putting results into DataFrame\n",
        "data = {'importances_mean' : perm_imp['importances_mean'],\n",
        "        'importances_std' : perm_imp['importances_std']}\n",
        "\n",
        "df = pd.DataFrame(data, index=X_test.columns)\n",
        "df.sort_values('importances_mean', ascending=True, inplace=True)\n",
        "\n",
        "# Making a plot\n",
        "df['importances_mean'].tail(10).plot(kind='barh')\n",
        "plt.xlabel('Importance (change in accuracy)')\n",
        "plt.ylabel('Feature')\n",
        "plt.title('Permutation importance for XGB_model');"
      ],
      "execution_count": 93,
      "outputs": [
        {
          "output_type": "display_data",
          "data": {
            "image/png": "[encoded data removed]",
            "text/plain": [
              "<Figure size 432x288 with 1 Axes>"
            ]
          },
          "metadata": {
            "tags": [],
            "needs_background": "light"
          }
        }
      ]
    }
  ]
}